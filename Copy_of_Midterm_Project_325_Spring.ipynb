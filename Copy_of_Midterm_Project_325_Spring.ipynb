{
  "nbformat": 4,
  "nbformat_minor": 0,
  "metadata": {
    "colab": {
      "provenance": []
    },
    "kernelspec": {
      "name": "python3",
      "display_name": "Python 3"
    },
    "language_info": {
      "name": "python"
    }
  },
  "cells": [
    {
      "cell_type": "markdown",
      "source": [
        "##Instructions\n",
        "\n",
        "\n",
        "\n",
        "\n",
        "1. For every data visualization you make, add a proper description on the axes. Even if the variable name isn't terrible, explicitly add them. This is worth 1 point per axis per problem!\n",
        "2. For each question asking you to make a calculation, you must add a comment or a markdown cell explicitly answering the question. **Python output alone is insufficient.**"
      ],
      "metadata": {
        "id": "-LuKgWnQjAph"
      }
    },
    {
      "cell_type": "markdown",
      "source": [
        "## 0. Load Stuff\n",
        "\n",
        "Load the `pandas`, `matplotib`,`seaborn`, and `geopandas`libraries."
      ],
      "metadata": {
        "id": "udPFH5-UjHvG"
      }
    },
    {
      "cell_type": "code",
      "source": [
        "import pandas as pd\n",
        "import matplotlib.pyplot as plt\n",
        "import seaborn as sns\n",
        "import geopandas as gpd"
      ],
      "metadata": {
        "id": "4Ha_5Ng7EmTb"
      },
      "execution_count": 2,
      "outputs": []
    },
    {
      "cell_type": "markdown",
      "source": [
        "Load in the dataframe found [here](https://raw.githubusercontent.com/fivethirtyeight/data/refs/heads/master/voter-registration/new-voter-registrations.csv) as the variable `voters`. Make sure you are familiar with the data, whose origins are [here](https://github.com/fivethirtyeight/data/tree/master/voter-registration)."
      ],
      "metadata": {
        "id": "G1xgjPDxEsx9"
      }
    },
    {
      "cell_type": "code",
      "source": [
        "voters = pd.read_csv(\"https://raw.githubusercontent.com/fivethirtyeight/data/refs/heads/master/voter-registration/new-voter-registrations.csv\")"
      ],
      "metadata": {
        "id": "OcDE94iIFC_f"
      },
      "execution_count": 3,
      "outputs": []
    },
    {
      "cell_type": "markdown",
      "source": [
        "##Introduction (10 points)\n",
        "You've been hired to work with a government organization interested in formation about voter registration in the United States. They have asked you to come up with two research questions--one about national trends and one about a state trend of your choice.\n",
        "\n",
        "Clearly state:\n",
        "* the purpose of your project\n",
        "* what the goal is\n",
        "* why it is important for someone to read this notebook?\n",
        "\n",
        "In additon, state your two research questions\n",
        "\n",
        "* Question 1:\n",
        "* Question 2:\n",
        "\n"
      ],
      "metadata": {
        "id": "0NhbKuYLj0v0"
      }
    },
    {
      "cell_type": "code",
      "source": [],
      "metadata": {
        "id": "Ej1UjWKxk-Xf"
      },
      "execution_count": null,
      "outputs": []
    },
    {
      "cell_type": "markdown",
      "source": [
        "## 1. Data Processing (8 points)"
      ],
      "metadata": {
        "id": "EvmhQ4aMjYas"
      }
    },
    {
      "cell_type": "markdown",
      "source": [
        "Show the first five rows of data and explain what the variable names are. (5 points)"
      ],
      "metadata": {
        "id": "ExN1Y2VBjd-u"
      }
    },
    {
      "cell_type": "code",
      "source": [
        "voters.head(5)\n",
        "#response below"
      ],
      "metadata": {
        "id": "tVyoWWUEFE8z",
        "colab": {
          "base_uri": "https://localhost:8080/",
          "height": 204
        },
        "outputId": "26ef1946-b509-4403-a897-30010c4dabf3"
      },
      "execution_count": 4,
      "outputs": [
        {
          "output_type": "execute_result",
          "data": {
            "text/plain": [
              "  Jurisdiction  Year Month  New registered voters\n",
              "0      Arizona  2016   Jan                  25852\n",
              "1      Arizona  2016   Feb                  51155\n",
              "2      Arizona  2016   Mar                  48614\n",
              "3      Arizona  2016   Apr                  30668\n",
              "4      Arizona  2020   Jan                  33229"
            ],
            "text/html": [
              "\n",
              "  <div id=\"df-1f16c2f5-2e69-4a73-b6da-b4175a5d1082\" class=\"colab-df-container\">\n",
              "    <div>\n",
              "<style scoped>\n",
              "    .dataframe tbody tr th:only-of-type {\n",
              "        vertical-align: middle;\n",
              "    }\n",
              "\n",
              "    .dataframe tbody tr th {\n",
              "        vertical-align: top;\n",
              "    }\n",
              "\n",
              "    .dataframe thead th {\n",
              "        text-align: right;\n",
              "    }\n",
              "</style>\n",
              "<table border=\"1\" class=\"dataframe\">\n",
              "  <thead>\n",
              "    <tr style=\"text-align: right;\">\n",
              "      <th></th>\n",
              "      <th>Jurisdiction</th>\n",
              "      <th>Year</th>\n",
              "      <th>Month</th>\n",
              "      <th>New registered voters</th>\n",
              "    </tr>\n",
              "  </thead>\n",
              "  <tbody>\n",
              "    <tr>\n",
              "      <th>0</th>\n",
              "      <td>Arizona</td>\n",
              "      <td>2016</td>\n",
              "      <td>Jan</td>\n",
              "      <td>25852</td>\n",
              "    </tr>\n",
              "    <tr>\n",
              "      <th>1</th>\n",
              "      <td>Arizona</td>\n",
              "      <td>2016</td>\n",
              "      <td>Feb</td>\n",
              "      <td>51155</td>\n",
              "    </tr>\n",
              "    <tr>\n",
              "      <th>2</th>\n",
              "      <td>Arizona</td>\n",
              "      <td>2016</td>\n",
              "      <td>Mar</td>\n",
              "      <td>48614</td>\n",
              "    </tr>\n",
              "    <tr>\n",
              "      <th>3</th>\n",
              "      <td>Arizona</td>\n",
              "      <td>2016</td>\n",
              "      <td>Apr</td>\n",
              "      <td>30668</td>\n",
              "    </tr>\n",
              "    <tr>\n",
              "      <th>4</th>\n",
              "      <td>Arizona</td>\n",
              "      <td>2020</td>\n",
              "      <td>Jan</td>\n",
              "      <td>33229</td>\n",
              "    </tr>\n",
              "  </tbody>\n",
              "</table>\n",
              "</div>\n",
              "    <div class=\"colab-df-buttons\">\n",
              "\n",
              "  <div class=\"colab-df-container\">\n",
              "    <button class=\"colab-df-convert\" onclick=\"convertToInteractive('df-1f16c2f5-2e69-4a73-b6da-b4175a5d1082')\"\n",
              "            title=\"Convert this dataframe to an interactive table.\"\n",
              "            style=\"display:none;\">\n",
              "\n",
              "  <svg xmlns=\"http://www.w3.org/2000/svg\" height=\"24px\" viewBox=\"0 -960 960 960\">\n",
              "    <path d=\"M120-120v-720h720v720H120Zm60-500h600v-160H180v160Zm220 220h160v-160H400v160Zm0 220h160v-160H400v160ZM180-400h160v-160H180v160Zm440 0h160v-160H620v160ZM180-180h160v-160H180v160Zm440 0h160v-160H620v160Z\"/>\n",
              "  </svg>\n",
              "    </button>\n",
              "\n",
              "  <style>\n",
              "    .colab-df-container {\n",
              "      display:flex;\n",
              "      gap: 12px;\n",
              "    }\n",
              "\n",
              "    .colab-df-convert {\n",
              "      background-color: #E8F0FE;\n",
              "      border: none;\n",
              "      border-radius: 50%;\n",
              "      cursor: pointer;\n",
              "      display: none;\n",
              "      fill: #1967D2;\n",
              "      height: 32px;\n",
              "      padding: 0 0 0 0;\n",
              "      width: 32px;\n",
              "    }\n",
              "\n",
              "    .colab-df-convert:hover {\n",
              "      background-color: #E2EBFA;\n",
              "      box-shadow: 0px 1px 2px rgba(60, 64, 67, 0.3), 0px 1px 3px 1px rgba(60, 64, 67, 0.15);\n",
              "      fill: #174EA6;\n",
              "    }\n",
              "\n",
              "    .colab-df-buttons div {\n",
              "      margin-bottom: 4px;\n",
              "    }\n",
              "\n",
              "    [theme=dark] .colab-df-convert {\n",
              "      background-color: #3B4455;\n",
              "      fill: #D2E3FC;\n",
              "    }\n",
              "\n",
              "    [theme=dark] .colab-df-convert:hover {\n",
              "      background-color: #434B5C;\n",
              "      box-shadow: 0px 1px 3px 1px rgba(0, 0, 0, 0.15);\n",
              "      filter: drop-shadow(0px 1px 2px rgba(0, 0, 0, 0.3));\n",
              "      fill: #FFFFFF;\n",
              "    }\n",
              "  </style>\n",
              "\n",
              "    <script>\n",
              "      const buttonEl =\n",
              "        document.querySelector('#df-1f16c2f5-2e69-4a73-b6da-b4175a5d1082 button.colab-df-convert');\n",
              "      buttonEl.style.display =\n",
              "        google.colab.kernel.accessAllowed ? 'block' : 'none';\n",
              "\n",
              "      async function convertToInteractive(key) {\n",
              "        const element = document.querySelector('#df-1f16c2f5-2e69-4a73-b6da-b4175a5d1082');\n",
              "        const dataTable =\n",
              "          await google.colab.kernel.invokeFunction('convertToInteractive',\n",
              "                                                    [key], {});\n",
              "        if (!dataTable) return;\n",
              "\n",
              "        const docLinkHtml = 'Like what you see? Visit the ' +\n",
              "          '<a target=\"_blank\" href=https://colab.research.google.com/notebooks/data_table.ipynb>data table notebook</a>'\n",
              "          + ' to learn more about interactive tables.';\n",
              "        element.innerHTML = '';\n",
              "        dataTable['output_type'] = 'display_data';\n",
              "        await google.colab.output.renderOutput(dataTable, element);\n",
              "        const docLink = document.createElement('div');\n",
              "        docLink.innerHTML = docLinkHtml;\n",
              "        element.appendChild(docLink);\n",
              "      }\n",
              "    </script>\n",
              "  </div>\n",
              "\n",
              "\n",
              "<div id=\"df-2b671124-b922-4c14-adad-691524525929\">\n",
              "  <button class=\"colab-df-quickchart\" onclick=\"quickchart('df-2b671124-b922-4c14-adad-691524525929')\"\n",
              "            title=\"Suggest charts\"\n",
              "            style=\"display:none;\">\n",
              "\n",
              "<svg xmlns=\"http://www.w3.org/2000/svg\" height=\"24px\"viewBox=\"0 0 24 24\"\n",
              "     width=\"24px\">\n",
              "    <g>\n",
              "        <path d=\"M19 3H5c-1.1 0-2 .9-2 2v14c0 1.1.9 2 2 2h14c1.1 0 2-.9 2-2V5c0-1.1-.9-2-2-2zM9 17H7v-7h2v7zm4 0h-2V7h2v10zm4 0h-2v-4h2v4z\"/>\n",
              "    </g>\n",
              "</svg>\n",
              "  </button>\n",
              "\n",
              "<style>\n",
              "  .colab-df-quickchart {\n",
              "      --bg-color: #E8F0FE;\n",
              "      --fill-color: #1967D2;\n",
              "      --hover-bg-color: #E2EBFA;\n",
              "      --hover-fill-color: #174EA6;\n",
              "      --disabled-fill-color: #AAA;\n",
              "      --disabled-bg-color: #DDD;\n",
              "  }\n",
              "\n",
              "  [theme=dark] .colab-df-quickchart {\n",
              "      --bg-color: #3B4455;\n",
              "      --fill-color: #D2E3FC;\n",
              "      --hover-bg-color: #434B5C;\n",
              "      --hover-fill-color: #FFFFFF;\n",
              "      --disabled-bg-color: #3B4455;\n",
              "      --disabled-fill-color: #666;\n",
              "  }\n",
              "\n",
              "  .colab-df-quickchart {\n",
              "    background-color: var(--bg-color);\n",
              "    border: none;\n",
              "    border-radius: 50%;\n",
              "    cursor: pointer;\n",
              "    display: none;\n",
              "    fill: var(--fill-color);\n",
              "    height: 32px;\n",
              "    padding: 0;\n",
              "    width: 32px;\n",
              "  }\n",
              "\n",
              "  .colab-df-quickchart:hover {\n",
              "    background-color: var(--hover-bg-color);\n",
              "    box-shadow: 0 1px 2px rgba(60, 64, 67, 0.3), 0 1px 3px 1px rgba(60, 64, 67, 0.15);\n",
              "    fill: var(--button-hover-fill-color);\n",
              "  }\n",
              "\n",
              "  .colab-df-quickchart-complete:disabled,\n",
              "  .colab-df-quickchart-complete:disabled:hover {\n",
              "    background-color: var(--disabled-bg-color);\n",
              "    fill: var(--disabled-fill-color);\n",
              "    box-shadow: none;\n",
              "  }\n",
              "\n",
              "  .colab-df-spinner {\n",
              "    border: 2px solid var(--fill-color);\n",
              "    border-color: transparent;\n",
              "    border-bottom-color: var(--fill-color);\n",
              "    animation:\n",
              "      spin 1s steps(1) infinite;\n",
              "  }\n",
              "\n",
              "  @keyframes spin {\n",
              "    0% {\n",
              "      border-color: transparent;\n",
              "      border-bottom-color: var(--fill-color);\n",
              "      border-left-color: var(--fill-color);\n",
              "    }\n",
              "    20% {\n",
              "      border-color: transparent;\n",
              "      border-left-color: var(--fill-color);\n",
              "      border-top-color: var(--fill-color);\n",
              "    }\n",
              "    30% {\n",
              "      border-color: transparent;\n",
              "      border-left-color: var(--fill-color);\n",
              "      border-top-color: var(--fill-color);\n",
              "      border-right-color: var(--fill-color);\n",
              "    }\n",
              "    40% {\n",
              "      border-color: transparent;\n",
              "      border-right-color: var(--fill-color);\n",
              "      border-top-color: var(--fill-color);\n",
              "    }\n",
              "    60% {\n",
              "      border-color: transparent;\n",
              "      border-right-color: var(--fill-color);\n",
              "    }\n",
              "    80% {\n",
              "      border-color: transparent;\n",
              "      border-right-color: var(--fill-color);\n",
              "      border-bottom-color: var(--fill-color);\n",
              "    }\n",
              "    90% {\n",
              "      border-color: transparent;\n",
              "      border-bottom-color: var(--fill-color);\n",
              "    }\n",
              "  }\n",
              "</style>\n",
              "\n",
              "  <script>\n",
              "    async function quickchart(key) {\n",
              "      const quickchartButtonEl =\n",
              "        document.querySelector('#' + key + ' button');\n",
              "      quickchartButtonEl.disabled = true;  // To prevent multiple clicks.\n",
              "      quickchartButtonEl.classList.add('colab-df-spinner');\n",
              "      try {\n",
              "        const charts = await google.colab.kernel.invokeFunction(\n",
              "            'suggestCharts', [key], {});\n",
              "      } catch (error) {\n",
              "        console.error('Error during call to suggestCharts:', error);\n",
              "      }\n",
              "      quickchartButtonEl.classList.remove('colab-df-spinner');\n",
              "      quickchartButtonEl.classList.add('colab-df-quickchart-complete');\n",
              "    }\n",
              "    (() => {\n",
              "      let quickchartButtonEl =\n",
              "        document.querySelector('#df-2b671124-b922-4c14-adad-691524525929 button');\n",
              "      quickchartButtonEl.style.display =\n",
              "        google.colab.kernel.accessAllowed ? 'block' : 'none';\n",
              "    })();\n",
              "  </script>\n",
              "</div>\n",
              "\n",
              "    </div>\n",
              "  </div>\n"
            ],
            "application/vnd.google.colaboratory.intrinsic+json": {
              "type": "dataframe",
              "summary": "{\n  \"name\": \"#response below\",\n  \"rows\": 5,\n  \"fields\": [\n    {\n      \"column\": \"Jurisdiction\",\n      \"properties\": {\n        \"dtype\": \"category\",\n        \"num_unique_values\": 1,\n        \"samples\": [\n          \"Arizona\"\n        ],\n        \"semantic_type\": \"\",\n        \"description\": \"\"\n      }\n    },\n    {\n      \"column\": \"Year\",\n      \"properties\": {\n        \"dtype\": \"number\",\n        \"std\": 1,\n        \"min\": 2016,\n        \"max\": 2020,\n        \"num_unique_values\": 2,\n        \"samples\": [\n          2020\n        ],\n        \"semantic_type\": \"\",\n        \"description\": \"\"\n      }\n    },\n    {\n      \"column\": \"Month\",\n      \"properties\": {\n        \"dtype\": \"string\",\n        \"num_unique_values\": 4,\n        \"samples\": [\n          \"Feb\"\n        ],\n        \"semantic_type\": \"\",\n        \"description\": \"\"\n      }\n    },\n    {\n      \"column\": \"New registered voters\",\n      \"properties\": {\n        \"dtype\": \"number\",\n        \"std\": 11288,\n        \"min\": 25852,\n        \"max\": 51155,\n        \"num_unique_values\": 5,\n        \"samples\": [\n          51155\n        ],\n        \"semantic_type\": \"\",\n        \"description\": \"\"\n      }\n    }\n  ]\n}"
            }
          },
          "metadata": {},
          "execution_count": 4
        }
      ]
    },
    {
      "cell_type": "markdown",
      "source": [
        "\n",
        "*  The jurisdiction variable displays the state the voters belong to\n",
        "*  The year variable displays year the voters registered\n",
        "*  The month variable displays the month the voters registered\n",
        "*  The voters variable displays how many voters registered per the aforementioned variables\n"
      ],
      "metadata": {
        "id": "t8cJ4bK02c3G"
      }
    },
    {
      "cell_type": "markdown",
      "source": [
        "Check for any missing data data. (1 point)"
      ],
      "metadata": {
        "id": "V4AdCw75iskT"
      }
    },
    {
      "cell_type": "code",
      "source": [
        "voters.isnull().values.any()"
      ],
      "metadata": {
        "id": "nhzCK0HFFF9R",
        "colab": {
          "base_uri": "https://localhost:8080/"
        },
        "outputId": "180684d9-c456-4524-e8f1-6f14664b529d"
      },
      "execution_count": null,
      "outputs": [
        {
          "output_type": "execute_result",
          "data": {
            "text/plain": [
              "False"
            ]
          },
          "metadata": {},
          "execution_count": 7
        }
      ]
    },
    {
      "cell_type": "markdown",
      "source": [
        "Check your data types. (1 point)"
      ],
      "metadata": {
        "id": "M2fwyrdolVLq"
      }
    },
    {
      "cell_type": "code",
      "source": [
        "voters.info()"
      ],
      "metadata": {
        "colab": {
          "base_uri": "https://localhost:8080/"
        },
        "id": "-T2qfkMa5Iu5",
        "outputId": "6d8dcaa5-450d-4428-c4b8-d9df2bb9e4f1"
      },
      "execution_count": null,
      "outputs": [
        {
          "output_type": "stream",
          "name": "stdout",
          "text": [
            "<class 'pandas.core.frame.DataFrame'>\n",
            "RangeIndex: 106 entries, 0 to 105\n",
            "Data columns (total 4 columns):\n",
            " #   Column             Non-Null Count  Dtype \n",
            "---  ------             --------------  ----- \n",
            " 0   NAME               106 non-null    object\n",
            " 1   Year               106 non-null    int64 \n",
            " 2   Month              106 non-null    object\n",
            " 3   registered_voters  106 non-null    int64 \n",
            "dtypes: int64(2), object(2)\n",
            "memory usage: 3.4+ KB\n"
          ]
        }
      ]
    },
    {
      "cell_type": "markdown",
      "source": [
        "Rename the jurisdiction column to \"NAME\" and the \"New registered voters\" to \"registered_voters\" to use througout the notebook. (2 points)"
      ],
      "metadata": {
        "id": "WqicEyDqlbDV"
      }
    },
    {
      "cell_type": "code",
      "source": [
        "voters = voters.rename(columns={\"Jurisdiction\":\"NAME\"})\n",
        "voters = voters.rename(columns={\"New registered voters\":\"registered_voters\"})"
      ],
      "metadata": {
        "id": "bqcc9myTFHQW"
      },
      "execution_count": 5,
      "outputs": []
    },
    {
      "cell_type": "code",
      "source": [
        "voters.columns"
      ],
      "metadata": {
        "colab": {
          "base_uri": "https://localhost:8080/"
        },
        "id": "SgUVaW2I4n1C",
        "outputId": "1a523a44-f865-43e7-8bf3-f4a4936d8437"
      },
      "execution_count": 6,
      "outputs": [
        {
          "output_type": "execute_result",
          "data": {
            "text/plain": [
              "Index(['NAME', 'Year', 'Month', 'registered_voters'], dtype='object')"
            ]
          },
          "metadata": {},
          "execution_count": 6
        }
      ]
    },
    {
      "cell_type": "markdown",
      "source": [
        "Explain any potential limitations to your data (2 points)"
      ],
      "metadata": {
        "id": "WfUNd1pJ1y2N"
      }
    },
    {
      "cell_type": "code",
      "source": [
        "#response below"
      ],
      "metadata": {
        "id": "iOmivDHvFJWW"
      },
      "execution_count": null,
      "outputs": []
    },
    {
      "cell_type": "markdown",
      "source": [
        "The data lacks specific information/details about the voters, like race, gender, and age. There are only so many observations that can be made with the number of registered voters."
      ],
      "metadata": {
        "id": "IGMuwcIu5bF-"
      }
    },
    {
      "cell_type": "markdown",
      "source": [
        "###Exploratory Data Analysis (20 points, as noted)"
      ],
      "metadata": {
        "id": "_u3e0lxol9RU"
      }
    },
    {
      "cell_type": "markdown",
      "source": [
        "When was the highest amount of new voter registration? Show the state, month, year, and number of registered voters. (5 points)\n",
        "\n"
      ],
      "metadata": {
        "id": "w1U_R_rAmd9y"
      }
    },
    {
      "cell_type": "code",
      "source": [
        "voters[[\"NAME\", \"Month\", \"Year\", \"registered_voters\"]].sort_values(by = \"registered_voters\", ascending = False).head(1)"
      ],
      "metadata": {
        "id": "vsDudPp-FKQM",
        "colab": {
          "base_uri": "https://localhost:8080/",
          "height": 80
        },
        "outputId": "5cdc5181-db9f-4460-8999-e442a42f5da5"
      },
      "execution_count": 15,
      "outputs": [
        {
          "output_type": "execute_result",
          "data": {
            "text/plain": [
              "          NAME Month  Year  registered_voters\n",
              "13  California   Feb  2020             238281"
            ],
            "text/html": [
              "\n",
              "  <div id=\"df-831961ba-faa6-4102-822d-d849e0dcea67\" class=\"colab-df-container\">\n",
              "    <div>\n",
              "<style scoped>\n",
              "    .dataframe tbody tr th:only-of-type {\n",
              "        vertical-align: middle;\n",
              "    }\n",
              "\n",
              "    .dataframe tbody tr th {\n",
              "        vertical-align: top;\n",
              "    }\n",
              "\n",
              "    .dataframe thead th {\n",
              "        text-align: right;\n",
              "    }\n",
              "</style>\n",
              "<table border=\"1\" class=\"dataframe\">\n",
              "  <thead>\n",
              "    <tr style=\"text-align: right;\">\n",
              "      <th></th>\n",
              "      <th>NAME</th>\n",
              "      <th>Month</th>\n",
              "      <th>Year</th>\n",
              "      <th>registered_voters</th>\n",
              "    </tr>\n",
              "  </thead>\n",
              "  <tbody>\n",
              "    <tr>\n",
              "      <th>13</th>\n",
              "      <td>California</td>\n",
              "      <td>Feb</td>\n",
              "      <td>2020</td>\n",
              "      <td>238281</td>\n",
              "    </tr>\n",
              "  </tbody>\n",
              "</table>\n",
              "</div>\n",
              "    <div class=\"colab-df-buttons\">\n",
              "\n",
              "  <div class=\"colab-df-container\">\n",
              "    <button class=\"colab-df-convert\" onclick=\"convertToInteractive('df-831961ba-faa6-4102-822d-d849e0dcea67')\"\n",
              "            title=\"Convert this dataframe to an interactive table.\"\n",
              "            style=\"display:none;\">\n",
              "\n",
              "  <svg xmlns=\"http://www.w3.org/2000/svg\" height=\"24px\" viewBox=\"0 -960 960 960\">\n",
              "    <path d=\"M120-120v-720h720v720H120Zm60-500h600v-160H180v160Zm220 220h160v-160H400v160Zm0 220h160v-160H400v160ZM180-400h160v-160H180v160Zm440 0h160v-160H620v160ZM180-180h160v-160H180v160Zm440 0h160v-160H620v160Z\"/>\n",
              "  </svg>\n",
              "    </button>\n",
              "\n",
              "  <style>\n",
              "    .colab-df-container {\n",
              "      display:flex;\n",
              "      gap: 12px;\n",
              "    }\n",
              "\n",
              "    .colab-df-convert {\n",
              "      background-color: #E8F0FE;\n",
              "      border: none;\n",
              "      border-radius: 50%;\n",
              "      cursor: pointer;\n",
              "      display: none;\n",
              "      fill: #1967D2;\n",
              "      height: 32px;\n",
              "      padding: 0 0 0 0;\n",
              "      width: 32px;\n",
              "    }\n",
              "\n",
              "    .colab-df-convert:hover {\n",
              "      background-color: #E2EBFA;\n",
              "      box-shadow: 0px 1px 2px rgba(60, 64, 67, 0.3), 0px 1px 3px 1px rgba(60, 64, 67, 0.15);\n",
              "      fill: #174EA6;\n",
              "    }\n",
              "\n",
              "    .colab-df-buttons div {\n",
              "      margin-bottom: 4px;\n",
              "    }\n",
              "\n",
              "    [theme=dark] .colab-df-convert {\n",
              "      background-color: #3B4455;\n",
              "      fill: #D2E3FC;\n",
              "    }\n",
              "\n",
              "    [theme=dark] .colab-df-convert:hover {\n",
              "      background-color: #434B5C;\n",
              "      box-shadow: 0px 1px 3px 1px rgba(0, 0, 0, 0.15);\n",
              "      filter: drop-shadow(0px 1px 2px rgba(0, 0, 0, 0.3));\n",
              "      fill: #FFFFFF;\n",
              "    }\n",
              "  </style>\n",
              "\n",
              "    <script>\n",
              "      const buttonEl =\n",
              "        document.querySelector('#df-831961ba-faa6-4102-822d-d849e0dcea67 button.colab-df-convert');\n",
              "      buttonEl.style.display =\n",
              "        google.colab.kernel.accessAllowed ? 'block' : 'none';\n",
              "\n",
              "      async function convertToInteractive(key) {\n",
              "        const element = document.querySelector('#df-831961ba-faa6-4102-822d-d849e0dcea67');\n",
              "        const dataTable =\n",
              "          await google.colab.kernel.invokeFunction('convertToInteractive',\n",
              "                                                    [key], {});\n",
              "        if (!dataTable) return;\n",
              "\n",
              "        const docLinkHtml = 'Like what you see? Visit the ' +\n",
              "          '<a target=\"_blank\" href=https://colab.research.google.com/notebooks/data_table.ipynb>data table notebook</a>'\n",
              "          + ' to learn more about interactive tables.';\n",
              "        element.innerHTML = '';\n",
              "        dataTable['output_type'] = 'display_data';\n",
              "        await google.colab.output.renderOutput(dataTable, element);\n",
              "        const docLink = document.createElement('div');\n",
              "        docLink.innerHTML = docLinkHtml;\n",
              "        element.appendChild(docLink);\n",
              "      }\n",
              "    </script>\n",
              "  </div>\n",
              "\n",
              "\n",
              "    </div>\n",
              "  </div>\n"
            ],
            "application/vnd.google.colaboratory.intrinsic+json": {
              "type": "dataframe",
              "summary": "{\n  \"name\": \"voters[[\\\"NAME\\\", \\\"Month\\\", \\\"Year\\\", \\\"registered_voters\\\"]]\",\n  \"rows\": 1,\n  \"fields\": [\n    {\n      \"column\": \"NAME\",\n      \"properties\": {\n        \"dtype\": \"string\",\n        \"num_unique_values\": 1,\n        \"samples\": [\n          \"California\"\n        ],\n        \"semantic_type\": \"\",\n        \"description\": \"\"\n      }\n    },\n    {\n      \"column\": \"Month\",\n      \"properties\": {\n        \"dtype\": \"string\",\n        \"num_unique_values\": 1,\n        \"samples\": [\n          \"Feb\"\n        ],\n        \"semantic_type\": \"\",\n        \"description\": \"\"\n      }\n    },\n    {\n      \"column\": \"Year\",\n      \"properties\": {\n        \"dtype\": \"number\",\n        \"std\": null,\n        \"min\": 2020,\n        \"max\": 2020,\n        \"num_unique_values\": 1,\n        \"samples\": [\n          2020\n        ],\n        \"semantic_type\": \"\",\n        \"description\": \"\"\n      }\n    },\n    {\n      \"column\": \"registered_voters\",\n      \"properties\": {\n        \"dtype\": \"number\",\n        \"std\": null,\n        \"min\": 238281,\n        \"max\": 238281,\n        \"num_unique_values\": 1,\n        \"samples\": [\n          238281\n        ],\n        \"semantic_type\": \"\",\n        \"description\": \"\"\n      }\n    }\n  ]\n}"
            }
          },
          "metadata": {},
          "execution_count": 15
        }
      ]
    },
    {
      "cell_type": "markdown",
      "source": [
        "What is the average voter registration? (1 points)"
      ],
      "metadata": {
        "id": "tnBX7ouGobgN"
      }
    },
    {
      "cell_type": "code",
      "source": [
        "voters[\"registered_voters\"].mean()"
      ],
      "metadata": {
        "id": "xFlNiR5MFK6x",
        "colab": {
          "base_uri": "https://localhost:8080/"
        },
        "outputId": "a9dbeddc-8f33-48f5-f3c3-556136a1bc59"
      },
      "execution_count": 16,
      "outputs": [
        {
          "output_type": "execute_result",
          "data": {
            "text/plain": [
              "48223.46226415094"
            ]
          },
          "metadata": {},
          "execution_count": 16
        }
      ]
    },
    {
      "cell_type": "markdown",
      "source": [
        "Create a dataframe called \"high_voters\" showing only the times where voter registration was higher than your above average. How many times did this happen? (3 points)\n"
      ],
      "metadata": {
        "id": "iUBplzXkpeIM"
      }
    },
    {
      "cell_type": "code",
      "source": [
        "high_voters = voters.loc[voters.registered_voters > 48223.46226415094]"
      ],
      "metadata": {
        "id": "bT8wyyt-FMvP"
      },
      "execution_count": 36,
      "outputs": []
    },
    {
      "cell_type": "code",
      "source": [
        "#response below"
      ],
      "metadata": {
        "id": "SlaTXzA-8Tv0"
      },
      "execution_count": null,
      "outputs": []
    },
    {
      "cell_type": "markdown",
      "source": [
        "Voter registration was higher than the average 36 times."
      ],
      "metadata": {
        "id": "0o6f1CHD8S2e"
      }
    },
    {
      "cell_type": "markdown",
      "source": [
        "How many times did each state go above the national average for new voter registration? (2 points)\n",
        "\n"
      ],
      "metadata": {
        "id": "skpwgqXwp8wA"
      }
    },
    {
      "cell_type": "code",
      "source": [
        "high_voters[[\"NAME\", \"registered_voters\"]].groupby(by = \"NAME\").head(36)"
      ],
      "metadata": {
        "id": "-ErvpKDRFOLQ",
        "colab": {
          "base_uri": "https://localhost:8080/",
          "height": 1000
        },
        "outputId": "3f4b3c5f-7210-4460-f8b6-11069da4c417"
      },
      "execution_count": 38,
      "outputs": [
        {
          "output_type": "execute_result",
          "data": {
            "text/plain": [
              "              NAME  registered_voters\n",
              "1          Arizona              51155\n",
              "2          Arizona              48614\n",
              "5          Arizona              50853\n",
              "8       California              87574\n",
              "9       California             103377\n",
              "10      California             174278\n",
              "11      California             185478\n",
              "12      California             151595\n",
              "13      California             238281\n",
              "14      California             176810\n",
              "42         Florida              50231\n",
              "43         Florida              87351\n",
              "44         Florida              73627\n",
              "45         Florida              52508\n",
              "46         Florida              77466\n",
              "47         Florida             109859\n",
              "48         Florida              54872\n",
              "55         Georgia              55386\n",
              "59        Illinois              99674\n",
              "60        Illinois              52782\n",
              "61        Illinois              76098\n",
              "63        Illinois              68455\n",
              "77  North Carolina              84357\n",
              "78  North Carolina              58272\n",
              "79  North Carolina              73341\n",
              "81  North Carolina             111990\n",
              "82  North Carolina              54053\n",
              "83  North Carolina              54807\n",
              "86           Texas             132860\n",
              "87           Texas             143795\n",
              "88           Texas             170607\n",
              "89           Texas             143199\n",
              "90           Texas              91205\n",
              "91           Texas             134559\n",
              "92           Texas             130080\n",
              "93           Texas             129424"
            ],
            "text/html": [
              "\n",
              "  <div id=\"df-2a0b5bc7-6189-4a3c-b1ca-7d7f24c82d9e\" class=\"colab-df-container\">\n",
              "    <div>\n",
              "<style scoped>\n",
              "    .dataframe tbody tr th:only-of-type {\n",
              "        vertical-align: middle;\n",
              "    }\n",
              "\n",
              "    .dataframe tbody tr th {\n",
              "        vertical-align: top;\n",
              "    }\n",
              "\n",
              "    .dataframe thead th {\n",
              "        text-align: right;\n",
              "    }\n",
              "</style>\n",
              "<table border=\"1\" class=\"dataframe\">\n",
              "  <thead>\n",
              "    <tr style=\"text-align: right;\">\n",
              "      <th></th>\n",
              "      <th>NAME</th>\n",
              "      <th>registered_voters</th>\n",
              "    </tr>\n",
              "  </thead>\n",
              "  <tbody>\n",
              "    <tr>\n",
              "      <th>1</th>\n",
              "      <td>Arizona</td>\n",
              "      <td>51155</td>\n",
              "    </tr>\n",
              "    <tr>\n",
              "      <th>2</th>\n",
              "      <td>Arizona</td>\n",
              "      <td>48614</td>\n",
              "    </tr>\n",
              "    <tr>\n",
              "      <th>5</th>\n",
              "      <td>Arizona</td>\n",
              "      <td>50853</td>\n",
              "    </tr>\n",
              "    <tr>\n",
              "      <th>8</th>\n",
              "      <td>California</td>\n",
              "      <td>87574</td>\n",
              "    </tr>\n",
              "    <tr>\n",
              "      <th>9</th>\n",
              "      <td>California</td>\n",
              "      <td>103377</td>\n",
              "    </tr>\n",
              "    <tr>\n",
              "      <th>10</th>\n",
              "      <td>California</td>\n",
              "      <td>174278</td>\n",
              "    </tr>\n",
              "    <tr>\n",
              "      <th>11</th>\n",
              "      <td>California</td>\n",
              "      <td>185478</td>\n",
              "    </tr>\n",
              "    <tr>\n",
              "      <th>12</th>\n",
              "      <td>California</td>\n",
              "      <td>151595</td>\n",
              "    </tr>\n",
              "    <tr>\n",
              "      <th>13</th>\n",
              "      <td>California</td>\n",
              "      <td>238281</td>\n",
              "    </tr>\n",
              "    <tr>\n",
              "      <th>14</th>\n",
              "      <td>California</td>\n",
              "      <td>176810</td>\n",
              "    </tr>\n",
              "    <tr>\n",
              "      <th>42</th>\n",
              "      <td>Florida</td>\n",
              "      <td>50231</td>\n",
              "    </tr>\n",
              "    <tr>\n",
              "      <th>43</th>\n",
              "      <td>Florida</td>\n",
              "      <td>87351</td>\n",
              "    </tr>\n",
              "    <tr>\n",
              "      <th>44</th>\n",
              "      <td>Florida</td>\n",
              "      <td>73627</td>\n",
              "    </tr>\n",
              "    <tr>\n",
              "      <th>45</th>\n",
              "      <td>Florida</td>\n",
              "      <td>52508</td>\n",
              "    </tr>\n",
              "    <tr>\n",
              "      <th>46</th>\n",
              "      <td>Florida</td>\n",
              "      <td>77466</td>\n",
              "    </tr>\n",
              "    <tr>\n",
              "      <th>47</th>\n",
              "      <td>Florida</td>\n",
              "      <td>109859</td>\n",
              "    </tr>\n",
              "    <tr>\n",
              "      <th>48</th>\n",
              "      <td>Florida</td>\n",
              "      <td>54872</td>\n",
              "    </tr>\n",
              "    <tr>\n",
              "      <th>55</th>\n",
              "      <td>Georgia</td>\n",
              "      <td>55386</td>\n",
              "    </tr>\n",
              "    <tr>\n",
              "      <th>59</th>\n",
              "      <td>Illinois</td>\n",
              "      <td>99674</td>\n",
              "    </tr>\n",
              "    <tr>\n",
              "      <th>60</th>\n",
              "      <td>Illinois</td>\n",
              "      <td>52782</td>\n",
              "    </tr>\n",
              "    <tr>\n",
              "      <th>61</th>\n",
              "      <td>Illinois</td>\n",
              "      <td>76098</td>\n",
              "    </tr>\n",
              "    <tr>\n",
              "      <th>63</th>\n",
              "      <td>Illinois</td>\n",
              "      <td>68455</td>\n",
              "    </tr>\n",
              "    <tr>\n",
              "      <th>77</th>\n",
              "      <td>North Carolina</td>\n",
              "      <td>84357</td>\n",
              "    </tr>\n",
              "    <tr>\n",
              "      <th>78</th>\n",
              "      <td>North Carolina</td>\n",
              "      <td>58272</td>\n",
              "    </tr>\n",
              "    <tr>\n",
              "      <th>79</th>\n",
              "      <td>North Carolina</td>\n",
              "      <td>73341</td>\n",
              "    </tr>\n",
              "    <tr>\n",
              "      <th>81</th>\n",
              "      <td>North Carolina</td>\n",
              "      <td>111990</td>\n",
              "    </tr>\n",
              "    <tr>\n",
              "      <th>82</th>\n",
              "      <td>North Carolina</td>\n",
              "      <td>54053</td>\n",
              "    </tr>\n",
              "    <tr>\n",
              "      <th>83</th>\n",
              "      <td>North Carolina</td>\n",
              "      <td>54807</td>\n",
              "    </tr>\n",
              "    <tr>\n",
              "      <th>86</th>\n",
              "      <td>Texas</td>\n",
              "      <td>132860</td>\n",
              "    </tr>\n",
              "    <tr>\n",
              "      <th>87</th>\n",
              "      <td>Texas</td>\n",
              "      <td>143795</td>\n",
              "    </tr>\n",
              "    <tr>\n",
              "      <th>88</th>\n",
              "      <td>Texas</td>\n",
              "      <td>170607</td>\n",
              "    </tr>\n",
              "    <tr>\n",
              "      <th>89</th>\n",
              "      <td>Texas</td>\n",
              "      <td>143199</td>\n",
              "    </tr>\n",
              "    <tr>\n",
              "      <th>90</th>\n",
              "      <td>Texas</td>\n",
              "      <td>91205</td>\n",
              "    </tr>\n",
              "    <tr>\n",
              "      <th>91</th>\n",
              "      <td>Texas</td>\n",
              "      <td>134559</td>\n",
              "    </tr>\n",
              "    <tr>\n",
              "      <th>92</th>\n",
              "      <td>Texas</td>\n",
              "      <td>130080</td>\n",
              "    </tr>\n",
              "    <tr>\n",
              "      <th>93</th>\n",
              "      <td>Texas</td>\n",
              "      <td>129424</td>\n",
              "    </tr>\n",
              "  </tbody>\n",
              "</table>\n",
              "</div>\n",
              "    <div class=\"colab-df-buttons\">\n",
              "\n",
              "  <div class=\"colab-df-container\">\n",
              "    <button class=\"colab-df-convert\" onclick=\"convertToInteractive('df-2a0b5bc7-6189-4a3c-b1ca-7d7f24c82d9e')\"\n",
              "            title=\"Convert this dataframe to an interactive table.\"\n",
              "            style=\"display:none;\">\n",
              "\n",
              "  <svg xmlns=\"http://www.w3.org/2000/svg\" height=\"24px\" viewBox=\"0 -960 960 960\">\n",
              "    <path d=\"M120-120v-720h720v720H120Zm60-500h600v-160H180v160Zm220 220h160v-160H400v160Zm0 220h160v-160H400v160ZM180-400h160v-160H180v160Zm440 0h160v-160H620v160ZM180-180h160v-160H180v160Zm440 0h160v-160H620v160Z\"/>\n",
              "  </svg>\n",
              "    </button>\n",
              "\n",
              "  <style>\n",
              "    .colab-df-container {\n",
              "      display:flex;\n",
              "      gap: 12px;\n",
              "    }\n",
              "\n",
              "    .colab-df-convert {\n",
              "      background-color: #E8F0FE;\n",
              "      border: none;\n",
              "      border-radius: 50%;\n",
              "      cursor: pointer;\n",
              "      display: none;\n",
              "      fill: #1967D2;\n",
              "      height: 32px;\n",
              "      padding: 0 0 0 0;\n",
              "      width: 32px;\n",
              "    }\n",
              "\n",
              "    .colab-df-convert:hover {\n",
              "      background-color: #E2EBFA;\n",
              "      box-shadow: 0px 1px 2px rgba(60, 64, 67, 0.3), 0px 1px 3px 1px rgba(60, 64, 67, 0.15);\n",
              "      fill: #174EA6;\n",
              "    }\n",
              "\n",
              "    .colab-df-buttons div {\n",
              "      margin-bottom: 4px;\n",
              "    }\n",
              "\n",
              "    [theme=dark] .colab-df-convert {\n",
              "      background-color: #3B4455;\n",
              "      fill: #D2E3FC;\n",
              "    }\n",
              "\n",
              "    [theme=dark] .colab-df-convert:hover {\n",
              "      background-color: #434B5C;\n",
              "      box-shadow: 0px 1px 3px 1px rgba(0, 0, 0, 0.15);\n",
              "      filter: drop-shadow(0px 1px 2px rgba(0, 0, 0, 0.3));\n",
              "      fill: #FFFFFF;\n",
              "    }\n",
              "  </style>\n",
              "\n",
              "    <script>\n",
              "      const buttonEl =\n",
              "        document.querySelector('#df-2a0b5bc7-6189-4a3c-b1ca-7d7f24c82d9e button.colab-df-convert');\n",
              "      buttonEl.style.display =\n",
              "        google.colab.kernel.accessAllowed ? 'block' : 'none';\n",
              "\n",
              "      async function convertToInteractive(key) {\n",
              "        const element = document.querySelector('#df-2a0b5bc7-6189-4a3c-b1ca-7d7f24c82d9e');\n",
              "        const dataTable =\n",
              "          await google.colab.kernel.invokeFunction('convertToInteractive',\n",
              "                                                    [key], {});\n",
              "        if (!dataTable) return;\n",
              "\n",
              "        const docLinkHtml = 'Like what you see? Visit the ' +\n",
              "          '<a target=\"_blank\" href=https://colab.research.google.com/notebooks/data_table.ipynb>data table notebook</a>'\n",
              "          + ' to learn more about interactive tables.';\n",
              "        element.innerHTML = '';\n",
              "        dataTable['output_type'] = 'display_data';\n",
              "        await google.colab.output.renderOutput(dataTable, element);\n",
              "        const docLink = document.createElement('div');\n",
              "        docLink.innerHTML = docLinkHtml;\n",
              "        element.appendChild(docLink);\n",
              "      }\n",
              "    </script>\n",
              "  </div>\n",
              "\n",
              "\n",
              "<div id=\"df-56c501b2-22ee-4d62-84ed-5683c020b822\">\n",
              "  <button class=\"colab-df-quickchart\" onclick=\"quickchart('df-56c501b2-22ee-4d62-84ed-5683c020b822')\"\n",
              "            title=\"Suggest charts\"\n",
              "            style=\"display:none;\">\n",
              "\n",
              "<svg xmlns=\"http://www.w3.org/2000/svg\" height=\"24px\"viewBox=\"0 0 24 24\"\n",
              "     width=\"24px\">\n",
              "    <g>\n",
              "        <path d=\"M19 3H5c-1.1 0-2 .9-2 2v14c0 1.1.9 2 2 2h14c1.1 0 2-.9 2-2V5c0-1.1-.9-2-2-2zM9 17H7v-7h2v7zm4 0h-2V7h2v10zm4 0h-2v-4h2v4z\"/>\n",
              "    </g>\n",
              "</svg>\n",
              "  </button>\n",
              "\n",
              "<style>\n",
              "  .colab-df-quickchart {\n",
              "      --bg-color: #E8F0FE;\n",
              "      --fill-color: #1967D2;\n",
              "      --hover-bg-color: #E2EBFA;\n",
              "      --hover-fill-color: #174EA6;\n",
              "      --disabled-fill-color: #AAA;\n",
              "      --disabled-bg-color: #DDD;\n",
              "  }\n",
              "\n",
              "  [theme=dark] .colab-df-quickchart {\n",
              "      --bg-color: #3B4455;\n",
              "      --fill-color: #D2E3FC;\n",
              "      --hover-bg-color: #434B5C;\n",
              "      --hover-fill-color: #FFFFFF;\n",
              "      --disabled-bg-color: #3B4455;\n",
              "      --disabled-fill-color: #666;\n",
              "  }\n",
              "\n",
              "  .colab-df-quickchart {\n",
              "    background-color: var(--bg-color);\n",
              "    border: none;\n",
              "    border-radius: 50%;\n",
              "    cursor: pointer;\n",
              "    display: none;\n",
              "    fill: var(--fill-color);\n",
              "    height: 32px;\n",
              "    padding: 0;\n",
              "    width: 32px;\n",
              "  }\n",
              "\n",
              "  .colab-df-quickchart:hover {\n",
              "    background-color: var(--hover-bg-color);\n",
              "    box-shadow: 0 1px 2px rgba(60, 64, 67, 0.3), 0 1px 3px 1px rgba(60, 64, 67, 0.15);\n",
              "    fill: var(--button-hover-fill-color);\n",
              "  }\n",
              "\n",
              "  .colab-df-quickchart-complete:disabled,\n",
              "  .colab-df-quickchart-complete:disabled:hover {\n",
              "    background-color: var(--disabled-bg-color);\n",
              "    fill: var(--disabled-fill-color);\n",
              "    box-shadow: none;\n",
              "  }\n",
              "\n",
              "  .colab-df-spinner {\n",
              "    border: 2px solid var(--fill-color);\n",
              "    border-color: transparent;\n",
              "    border-bottom-color: var(--fill-color);\n",
              "    animation:\n",
              "      spin 1s steps(1) infinite;\n",
              "  }\n",
              "\n",
              "  @keyframes spin {\n",
              "    0% {\n",
              "      border-color: transparent;\n",
              "      border-bottom-color: var(--fill-color);\n",
              "      border-left-color: var(--fill-color);\n",
              "    }\n",
              "    20% {\n",
              "      border-color: transparent;\n",
              "      border-left-color: var(--fill-color);\n",
              "      border-top-color: var(--fill-color);\n",
              "    }\n",
              "    30% {\n",
              "      border-color: transparent;\n",
              "      border-left-color: var(--fill-color);\n",
              "      border-top-color: var(--fill-color);\n",
              "      border-right-color: var(--fill-color);\n",
              "    }\n",
              "    40% {\n",
              "      border-color: transparent;\n",
              "      border-right-color: var(--fill-color);\n",
              "      border-top-color: var(--fill-color);\n",
              "    }\n",
              "    60% {\n",
              "      border-color: transparent;\n",
              "      border-right-color: var(--fill-color);\n",
              "    }\n",
              "    80% {\n",
              "      border-color: transparent;\n",
              "      border-right-color: var(--fill-color);\n",
              "      border-bottom-color: var(--fill-color);\n",
              "    }\n",
              "    90% {\n",
              "      border-color: transparent;\n",
              "      border-bottom-color: var(--fill-color);\n",
              "    }\n",
              "  }\n",
              "</style>\n",
              "\n",
              "  <script>\n",
              "    async function quickchart(key) {\n",
              "      const quickchartButtonEl =\n",
              "        document.querySelector('#' + key + ' button');\n",
              "      quickchartButtonEl.disabled = true;  // To prevent multiple clicks.\n",
              "      quickchartButtonEl.classList.add('colab-df-spinner');\n",
              "      try {\n",
              "        const charts = await google.colab.kernel.invokeFunction(\n",
              "            'suggestCharts', [key], {});\n",
              "      } catch (error) {\n",
              "        console.error('Error during call to suggestCharts:', error);\n",
              "      }\n",
              "      quickchartButtonEl.classList.remove('colab-df-spinner');\n",
              "      quickchartButtonEl.classList.add('colab-df-quickchart-complete');\n",
              "    }\n",
              "    (() => {\n",
              "      let quickchartButtonEl =\n",
              "        document.querySelector('#df-56c501b2-22ee-4d62-84ed-5683c020b822 button');\n",
              "      quickchartButtonEl.style.display =\n",
              "        google.colab.kernel.accessAllowed ? 'block' : 'none';\n",
              "    })();\n",
              "  </script>\n",
              "</div>\n",
              "\n",
              "    </div>\n",
              "  </div>\n"
            ],
            "application/vnd.google.colaboratory.intrinsic+json": {
              "type": "dataframe",
              "summary": "{\n  \"name\": \"high_voters[[\\\"NAME\\\", \\\"registered_voters\\\"]]\",\n  \"rows\": 36,\n  \"fields\": [\n    {\n      \"column\": \"NAME\",\n      \"properties\": {\n        \"dtype\": \"category\",\n        \"num_unique_values\": 7,\n        \"samples\": [\n          \"Arizona\",\n          \"California\",\n          \"North Carolina\"\n        ],\n        \"semantic_type\": \"\",\n        \"description\": \"\"\n      }\n    },\n    {\n      \"column\": \"registered_voters\",\n      \"properties\": {\n        \"dtype\": \"number\",\n        \"std\": 48395,\n        \"min\": 48614,\n        \"max\": 238281,\n        \"num_unique_values\": 36,\n        \"samples\": [\n          129424,\n          52508,\n          54053\n        ],\n        \"semantic_type\": \"\",\n        \"description\": \"\"\n      }\n    }\n  ]\n}"
            }
          },
          "metadata": {},
          "execution_count": 38
        }
      ]
    },
    {
      "cell_type": "code",
      "source": [
        "high_voters.groupby(\"NAME\")[\"registered_voters\"].mode()"
      ],
      "metadata": {
        "colab": {
          "base_uri": "https://localhost:8080/",
          "height": 258
        },
        "id": "chJEfql3_7o2",
        "outputId": "2fea8ee7-97da-4bd4-c6fa-e7495d71511d"
      },
      "execution_count": 40,
      "outputs": [
        {
          "output_type": "error",
          "ename": "AttributeError",
          "evalue": "'SeriesGroupBy' object has no attribute 'mode'",
          "traceback": [
            "\u001b[0;31m---------------------------------------------------------------------------\u001b[0m",
            "\u001b[0;31mAttributeError\u001b[0m                            Traceback (most recent call last)",
            "\u001b[0;32m<ipython-input-40-22b18589e6a4>\u001b[0m in \u001b[0;36m<cell line: 0>\u001b[0;34m()\u001b[0m\n\u001b[0;32m----> 1\u001b[0;31m \u001b[0mhigh_voters\u001b[0m\u001b[0;34m.\u001b[0m\u001b[0mgroupby\u001b[0m\u001b[0;34m(\u001b[0m\u001b[0;34m\"NAME\"\u001b[0m\u001b[0;34m)\u001b[0m\u001b[0;34m[\u001b[0m\u001b[0;34m\"registered_voters\"\u001b[0m\u001b[0;34m]\u001b[0m\u001b[0;34m.\u001b[0m\u001b[0mmode\u001b[0m\u001b[0;34m(\u001b[0m\u001b[0;34m)\u001b[0m\u001b[0;34m\u001b[0m\u001b[0;34m\u001b[0m\u001b[0m\n\u001b[0m",
            "\u001b[0;32m/usr/local/lib/python3.11/dist-packages/pandas/core/groupby/groupby.py\u001b[0m in \u001b[0;36m__getattr__\u001b[0;34m(self, attr)\u001b[0m\n\u001b[1;32m   1361\u001b[0m             \u001b[0;32mreturn\u001b[0m \u001b[0mself\u001b[0m\u001b[0;34m[\u001b[0m\u001b[0mattr\u001b[0m\u001b[0;34m]\u001b[0m\u001b[0;34m\u001b[0m\u001b[0;34m\u001b[0m\u001b[0m\n\u001b[1;32m   1362\u001b[0m \u001b[0;34m\u001b[0m\u001b[0m\n\u001b[0;32m-> 1363\u001b[0;31m         raise AttributeError(\n\u001b[0m\u001b[1;32m   1364\u001b[0m             \u001b[0;34mf\"'{type(self).__name__}' object has no attribute '{attr}'\"\u001b[0m\u001b[0;34m\u001b[0m\u001b[0;34m\u001b[0m\u001b[0m\n\u001b[1;32m   1365\u001b[0m         )\n",
            "\u001b[0;31mAttributeError\u001b[0m: 'SeriesGroupBy' object has no attribute 'mode'"
          ]
        }
      ]
    },
    {
      "cell_type": "code",
      "source": [
        "#response below"
      ],
      "metadata": {
        "id": "XzTqjgVb-WV4"
      },
      "execution_count": null,
      "outputs": []
    },
    {
      "cell_type": "markdown",
      "source": [
        "\n",
        "*  Arizona - 3 times\n",
        "*  California - 7 times\n",
        "*  Florida - 7 times\n",
        "*  Georgia - 1 time\n",
        "*  Illinois - 4 times\n",
        "*  North Carolina - 6 times\n",
        "*  Texas - 8 times\n"
      ],
      "metadata": {
        "id": "lswLcfvp-VgS"
      }
    },
    {
      "cell_type": "markdown",
      "source": [
        "Which three states had the highest average voter registration overall? Show only the top three results. (5 points)"
      ],
      "metadata": {
        "id": "dGJ6ev0ihoek"
      }
    },
    {
      "cell_type": "code",
      "source": [
        "highest_voters = high_voters.groupby(\"NAME\")[\"registered_voters\"].mean()\n",
        "highest_voters.sort_values(ascending=False).head(3)"
      ],
      "metadata": {
        "id": "xus18i6nFPFE",
        "colab": {
          "base_uri": "https://localhost:8080/",
          "height": 207
        },
        "outputId": "6808f868-a109-4092-bfb1-58e0e55b1fc6"
      },
      "execution_count": 48,
      "outputs": [
        {
          "output_type": "execute_result",
          "data": {
            "text/plain": [
              "NAME\n",
              "California    159627.571429\n",
              "Texas         134466.125000\n",
              "Illinois       74252.250000\n",
              "Name: registered_voters, dtype: float64"
            ],
            "text/html": [
              "<div>\n",
              "<style scoped>\n",
              "    .dataframe tbody tr th:only-of-type {\n",
              "        vertical-align: middle;\n",
              "    }\n",
              "\n",
              "    .dataframe tbody tr th {\n",
              "        vertical-align: top;\n",
              "    }\n",
              "\n",
              "    .dataframe thead th {\n",
              "        text-align: right;\n",
              "    }\n",
              "</style>\n",
              "<table border=\"1\" class=\"dataframe\">\n",
              "  <thead>\n",
              "    <tr style=\"text-align: right;\">\n",
              "      <th></th>\n",
              "      <th>registered_voters</th>\n",
              "    </tr>\n",
              "    <tr>\n",
              "      <th>NAME</th>\n",
              "      <th></th>\n",
              "    </tr>\n",
              "  </thead>\n",
              "  <tbody>\n",
              "    <tr>\n",
              "      <th>California</th>\n",
              "      <td>159627.571429</td>\n",
              "    </tr>\n",
              "    <tr>\n",
              "      <th>Texas</th>\n",
              "      <td>134466.125000</td>\n",
              "    </tr>\n",
              "    <tr>\n",
              "      <th>Illinois</th>\n",
              "      <td>74252.250000</td>\n",
              "    </tr>\n",
              "  </tbody>\n",
              "</table>\n",
              "</div><br><label><b>dtype:</b> float64</label>"
            ]
          },
          "metadata": {},
          "execution_count": 48
        }
      ]
    },
    {
      "cell_type": "markdown",
      "source": [
        "##Data Visualization (30 points, as marked)"
      ],
      "metadata": {
        "id": "yZtT1NZmqaDY"
      }
    },
    {
      "cell_type": "markdown",
      "source": [
        "Create a plot showing the voter registratation by state.\n",
        "* A dataframe/a way to show the total voters registered per state. If you create a new dataframe, you may need to include `reset_index()`.(3 points)\n",
        "* A figure size of 10,10 (1 point)\n",
        "* Clearly legible labels and titles (2 points)\n",
        "* A color palette that is not the default palette (1 point)\n",
        "* Comment on the trends you see (2 points)\n",
        "\n",
        "\n",
        "(9 points total)"
      ],
      "metadata": {
        "id": "sWvV4xo44kAm"
      }
    },
    {
      "cell_type": "code",
      "source": [
        "label = [\"Arizona\", \"California\", \"Colorado\", \"Delaware\", \"District of Columbia\", \"Florida\", \"Georgia\", \"Illinois\", \"Maryland\", \"North Carolina\", \"Texas\", \"Virginia\"]\n",
        "plt.figure(figsize=(10,10))\n",
        "sns.countplot(voters, x=\"NAME\", palette=\"viridis\", hue=\"NAME\")\n",
        "plt.xlabel(\"States\",fontsize=10)\n",
        "plt.ylabel(\"w\",fontsize=10)\n",
        "plt.title(\"Total Voters Registered Per State\")\n",
        "plt.legend(labels = label, title = \"States\", fontsize = 8)\n",
        "plt.xticks(ticks = range(len(label)), labels = label, rotation = 45)\n",
        "plt.show()"
      ],
      "metadata": {
        "id": "ZUHIW_YaFR3c",
        "colab": {
          "base_uri": "https://localhost:8080/",
          "height": 966
        },
        "outputId": "429b3af3-a2a0-4580-832e-5fc2c135cc7b"
      },
      "execution_count": 89,
      "outputs": [
        {
          "output_type": "display_data",
          "data": {
            "text/plain": [
              "<Figure size 1000x1000 with 1 Axes>"
            ],
            "image/png": "[encoded data removed]"
          },
          "metadata": {}
        }
      ]
    },
    {
      "cell_type": "markdown",
      "source": [
        "Produce a plot comparing voter registation in 2016 and 2020. (2 pts)\n",
        "* Color the graph based on the month.(1 pt)\n",
        "* Change the default color palette used. (1 pt)\n",
        "* Comment on any trends you see. (2 pts)\n",
        "* Add the appropriate labels and title (1)\n",
        "* Comment on any trends you see (2 points)\n",
        "\n",
        "(9 pts total)"
      ],
      "metadata": {
        "id": "RNpnadEWq5fu"
      }
    },
    {
      "cell_type": "code",
      "source": [],
      "metadata": {
        "id": "VMPnqr_-FTqZ"
      },
      "execution_count": null,
      "outputs": []
    },
    {
      "cell_type": "markdown",
      "source": [
        "Create a data visualization that relates to either your state level research question or your national level reserach question. If one of your questions was answered by the above graphs, you may not use that question. (12 points)"
      ],
      "metadata": {
        "id": "SbGMnC5XqqoK"
      }
    },
    {
      "cell_type": "code",
      "source": [],
      "metadata": {
        "id": "tb0lz5Aky5At"
      },
      "execution_count": null,
      "outputs": []
    },
    {
      "cell_type": "markdown",
      "source": [
        "##Mapping (14 points as noted)\n",
        "\n",
        "Load in our shape file data from the mapping unit."
      ],
      "metadata": {
        "id": "1d2JJW9lu1zz"
      }
    },
    {
      "cell_type": "code",
      "source": [
        "!git clone https://github.com/SFord87/325-Datasets"
      ],
      "metadata": {
        "colab": {
          "base_uri": "https://localhost:8080/"
        },
        "id": "SdZbteduz0-6",
        "outputId": "616ed174-23e4-48d5-ab4c-3e91fa9a6e0b"
      },
      "execution_count": 70,
      "outputs": [
        {
          "output_type": "stream",
          "name": "stdout",
          "text": [
            "Cloning into '325-Datasets'...\n",
            "remote: Enumerating objects: 53, done.\u001b[K\n",
            "remote: Counting objects: 100% (53/53), done.\u001b[K\n",
            "remote: Compressing objects: 100% (48/48), done.\u001b[K\n",
            "remote: Total 53 (delta 13), reused 0 (delta 0), pack-reused 0 (from 0)\u001b[K\n",
            "Receiving objects: 100% (53/53), 7.37 MiB | 11.50 MiB/s, done.\n",
            "Resolving deltas: 100% (13/13), done.\n"
          ]
        }
      ]
    },
    {
      "cell_type": "code",
      "source": [
        "shapefile = '/content/325-Datasets/cb_2018_us_state_500k.shp'\n",
        "\n",
        "states = gpd.read_file(shapefile)"
      ],
      "metadata": {
        "id": "He5W6DLOFVud"
      },
      "execution_count": 73,
      "outputs": []
    },
    {
      "cell_type": "markdown",
      "source": [
        "Set our continental US bounding box to us for the next questions. (2 points)"
      ],
      "metadata": {
        "id": "BWGbGfDFvIty"
      }
    },
    {
      "cell_type": "code",
      "source": [
        "minx, miny, maxx, maxy = -125, 24.396308, -66.93457, 49.384358"
      ],
      "metadata": {
        "id": "mSOD369v0Z6J"
      },
      "execution_count": 71,
      "outputs": []
    },
    {
      "cell_type": "code",
      "source": [
        "bbox = states.cx[minx:maxx, miny:maxy]"
      ],
      "metadata": {
        "id": "TJ5plxESFYIG"
      },
      "execution_count": 74,
      "outputs": []
    },
    {
      "cell_type": "markdown",
      "source": [
        "Create a dataframe that shows the average voter registration per state. (2 points)"
      ],
      "metadata": {
        "id": "aI6Sgm1f2Vks"
      }
    },
    {
      "cell_type": "code",
      "source": [
        "bbox.columns"
      ],
      "metadata": {
        "id": "BMiDmar7FZ9i",
        "colab": {
          "base_uri": "https://localhost:8080/"
        },
        "outputId": "f34c38e8-40f6-4ef9-9302-30ffe51073be"
      },
      "execution_count": 9,
      "outputs": [
        {
          "output_type": "execute_result",
          "data": {
            "text/plain": [
              "Index(['STATEFP', 'STATENS', 'AFFGEOID', 'GEOID', 'STUSPS', 'NAME', 'LSAD',\n",
              "       'ALAND', 'AWATER', 'geometry'],\n",
              "      dtype='object')"
            ]
          },
          "metadata": {},
          "execution_count": 9
        }
      ]
    },
    {
      "cell_type": "code",
      "source": [
        "voters.columns"
      ],
      "metadata": {
        "colab": {
          "base_uri": "https://localhost:8080/"
        },
        "id": "qvcO4Lqv0khS",
        "outputId": "173ccfd0-8075-406a-de2b-96e31c87bc06"
      },
      "execution_count": 15,
      "outputs": [
        {
          "output_type": "execute_result",
          "data": {
            "text/plain": [
              "Index(['NAME', 'Year', 'Month', 'registered_voters'], dtype='object')"
            ]
          },
          "metadata": {},
          "execution_count": 15
        }
      ]
    },
    {
      "cell_type": "markdown",
      "source": [
        "Merge the above dataframe results with the mapping data. You will want to use `inner` for the `how` argument. (2 points)"
      ],
      "metadata": {
        "id": "viifmX-n2a03"
      }
    },
    {
      "cell_type": "code",
      "source": [
        "state_pops= bbox.merge(voters, on=\"NAME\", how=\"inner\")"
      ],
      "metadata": {
        "id": "TL7RtP900y52"
      },
      "execution_count": 75,
      "outputs": []
    },
    {
      "cell_type": "markdown",
      "source": [
        "Make a map featuring the following\n",
        "\n",
        "*  a figure size of 25, 15 (1 point)\n",
        "*  A boundary map of the continental US data, with a black linewidth of .25 (2 points)\n",
        "*  The states that we have the voter registration information for highlighted in a color map of your choice. (3 points)\n",
        "*  A legend and a title. (2 points)\n",
        "\n",
        "*Bonus point: add the state abbrevations and average number of registered voters to the map* (1 point)\n",
        "\n",
        "(8 points total)"
      ],
      "metadata": {
        "id": "GcOKuSVb2fHc"
      }
    },
    {
      "cell_type": "code",
      "source": [
        "fig = plt.figure(1,figsize=(25,15))\n",
        "us_map = bbox.boundary.plot(figsize=(25,15),linewidth=.25, color=\"black\")\n",
        "state_pops.plot(column=\"registered_voters\", ax=us_map, legend=True,cmap=\"Spectral\",\n",
        "            legend_kwds={\"label\": \"Newly Registered Voters\",\n",
        "            \"orientation\": \"horizontal\"})\n",
        "us_map.axis(\"on\")\n",
        "plt.title(\"Newly Registered Voters by State\", fontsize=20)\n",
        "plt.show()"
      ],
      "metadata": {
        "id": "vNFKjcVkFfsA",
        "colab": {
          "base_uri": "https://localhost:8080/",
          "height": 778
        },
        "outputId": "d2bfccba-fcb5-4a96-9e46-e29f4cd46012"
      },
      "execution_count": 101,
      "outputs": [
        {
          "output_type": "display_data",
          "data": {
            "text/plain": [
              "<Figure size 2500x1500 with 0 Axes>"
            ]
          },
          "metadata": {}
        },
        {
          "output_type": "display_data",
          "data": {
            "text/plain": [
              "<Figure size 2500x1500 with 2 Axes>"
            ],
            "image/png": "[encoded data removed]"
          },
          "metadata": {}
        }
      ]
    },
    {
      "cell_type": "markdown",
      "source": [
        "##Conclusion  (15 points)\n",
        "\n",
        "Write a conclusion section that includes\n",
        "* Insights: the insights/outcomes of your notebook (5 points)\n",
        "* Suggestions: Any suggestions or ideas you could offer your client (5 point)\n",
        "* Possible next steps: At least one step that you would take if continuing to work with this project (5 points)\n",
        "\n",
        "\n",
        "Each section should be at least 3-4 complete sentenes.\n"
      ],
      "metadata": {
        "id": "iHRHv-t14VI-"
      }
    },
    {
      "cell_type": "code",
      "source": [],
      "metadata": {
        "id": "8S1yz4-OFgdM"
      },
      "execution_count": null,
      "outputs": []
    },
    {
      "cell_type": "markdown",
      "source": [
        "##Github (3 points)\n",
        "Post this to your Github and include the accessible link either here or on brightspace."
      ],
      "metadata": {
        "id": "JN7PjbbV7kUB"
      }
    },
    {
      "cell_type": "code",
      "source": [],
      "metadata": {
        "id": "F5FVDQk578qx"
      },
      "execution_count": null,
      "outputs": []
    },
    {
      "cell_type": "markdown",
      "source": [
        "# Academic Integrity Statement\n",
        "\n",
        "By writing my name in the cell below, I certify that:\n",
        "\n",
        "1. I did not use resources other than:\n",
        "   * the Python notebooks provided by the instructor,\n",
        "   * links provided in this notebook,\n",
        "   * the assigned readings, and\n",
        "   * my own personal notes\n",
        "2. This means that I did not:\n",
        "   * look up anything on Google, or Stack Overflow, Chatgpt, &c.,\n",
        "   * discuss the content of the exam with *anyone* other than the instructors or TAs, or\n",
        "   * do anything that technically doen't break these rules but is against their spirit."
      ],
      "metadata": {
        "id": "OX_8cUSY8cQe"
      }
    },
    {
      "cell_type": "code",
      "source": [],
      "metadata": {
        "id": "iQO9zh6W8dVc"
      },
      "execution_count": null,
      "outputs": []
    }
  ]
}